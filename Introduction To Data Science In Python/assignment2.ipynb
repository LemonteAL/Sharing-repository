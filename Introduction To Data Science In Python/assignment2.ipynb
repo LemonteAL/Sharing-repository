{
 "cells": [
  {
   "cell_type": "markdown",
   "metadata": {
    "deletable": false,
    "editable": false,
    "etc_identifier": "373a3605-5bda-4e1f-beef-04a0173d3f41",
    "nbgrader": {
     "cell_type": "markdown",
     "checksum": "ea942292eff37b50f364f842bcdd8ad9",
     "grade": false,
     "grade_id": "cell-a839e7b47494b4c3",
     "locked": true,
     "schema_version": 3,
     "solution": false
    }
   },
   "source": [
    "# Assignment 2\n",
    "\n",
    "For this assignment you'll be looking at 2017 data on immunizations from the CDC. Your datafile for this assignment is in [assets/NISPUF17.csv](assets/NISPUF17.csv). A data users guide for this, which you'll need to map the variables in the data to the questions being asked, is available at [assets/NIS-PUF17-DUG.pdf](assets/NIS-PUF17-DUG.pdf). **Note: you may have to go to your Jupyter tree (click on the Coursera image) and navigate to the assignment 2 assets folder to see this PDF file).**"
   ]
  },
  {
   "cell_type": "markdown",
   "metadata": {
    "deletable": false,
    "editable": false,
    "hideCode": false,
    "hidePrompt": false,
    "nbgrader": {
     "cell_type": "markdown",
     "checksum": "f85bd44672080d80abd2a7f47aa0f1be",
     "grade": false,
     "grade_id": "cell-58fc2e5938733f6a",
     "locked": true,
     "schema_version": 3,
     "solution": false
    }
   },
   "source": [
    "## Question 1\n",
    "Write a function called `proportion_of_education` which returns the proportion of children in the dataset who had a mother with the education levels equal to less than high school (<12), high school (12), more than high school but not a college graduate (>12) and college degree.\n",
    "\n",
    "*This function should return a dictionary in the form of (use the correct numbers, do not round numbers):* \n",
    "```\n",
    "    {\"less than high school\":0.2,\n",
    "    \"high school\":0.4,\n",
    "    \"more than high school but not college\":0.2,\n",
    "    \"college\":0.2}\n",
    "```"
   ]
  },
  {
   "cell_type": "code",
   "execution_count": null,
   "metadata": {
    "deletable": false,
    "nbgrader": {
     "cell_type": "code",
     "checksum": "0ac58deb3f5ac988c643e903cbee7f3a",
     "grade": false,
     "grade_id": "cell-eea16d020eb52ae7",
     "locked": false,
     "schema_version": 3,
     "solution": true
    }
   },
   "outputs": [],
   "source": [
    "def proportion_of_education():\n",
    "    # your code goes here\n",
    "    # YOUR CODE HERE\n",
    "    \n",
    "    ## Need to open the csv file via readCSV and store it in a variable\n",
    "    ## That will import everything, but for sake of efficiency we could just keep only the relevant columns each time\n",
    "    \n",
    "    ## What columns will we need? We will need to extract the column for the mother's education level\n",
    "    ## Once we have this sub-dataFrame selected, we can use 4 boolean masks and/or df.dropna() to isolate the invidual children\n",
    "    ## who fall into each of the 4 categories\n",
    "    ## From there all we need to do is count the number of indices in each of these 4 categories to compute the proportions we need.\n",
    "    \n",
    "    import pandas as pd\n",
    "    \n",
    "    ## Import .csv file and extract a dataFrame corresponding to the single column we are currently interested in\n",
    "    df = pd.read_csv('assets/NISPUF17.csv')\n",
    "    ## EDUC1 is the name of the column that describes the mother's education level\n",
    "    ## EDUC1=1,2,3,4 with the four possible values referring to the four categories of education in order\n",
    "    \n",
    "    numKids = len(df.index)\n",
    "    ## Create 4 boolean masks to count the 4 different education levels appearing in the dataset\n",
    "    level1 = df[df[\"EDUC1\"]==1]\n",
    "    level2 = df[df[\"EDUC1\"]==2]\n",
    "    level3 = df[df[\"EDUC1\"]==3]\n",
    "    level4 = df[df[\"EDUC1\"]==4]\n",
    "    \n",
    "    ## Store the final results in here in a dictionary\n",
    "    proportions = {\"less than high school\":len(level1)/numKids,\n",
    "    \"high school\":len(level2)/numKids,\n",
    "    \"more than high school but not college\":len(level3)/numKids,\n",
    "    \"college\":len(level4)/numKids}\n",
    "    \n",
    "    ##print(proportions)\n",
    "    return proportions\n",
    "   ## raise NotImplementedError()"
   ]
  },
  {
   "cell_type": "code",
   "execution_count": null,
   "metadata": {
    "deletable": false,
    "editable": false,
    "hideCode": false,
    "hidePrompt": false,
    "nbgrader": {
     "cell_type": "code",
     "checksum": "ac5d91a24a7f72f66c25d242c3d24a50",
     "grade": true,
     "grade_id": "cell-c0eeef201366f51c",
     "locked": true,
     "points": 1,
     "schema_version": 3,
     "solution": false
    }
   },
   "outputs": [],
   "source": [
    "assert type(proportion_of_education())==type({}), \"You must return a dictionary.\"\n",
    "assert len(proportion_of_education()) == 4, \"You have not returned a dictionary with four items in it.\"\n",
    "assert \"less than high school\" in proportion_of_education().keys(), \"You have not returned a dictionary with the correct keys.\"\n",
    "assert \"high school\" in proportion_of_education().keys(), \"You have not returned a dictionary with the correct keys.\"\n",
    "assert \"more than high school but not college\" in proportion_of_education().keys(), \"You have not returned a dictionary with the correct keys.\"\n",
    "assert \"college\" in proportion_of_education().keys(), \"You have not returned a dictionary with the correct keys.\"\n"
   ]
  },
  {
   "cell_type": "markdown",
   "metadata": {
    "deletable": false,
    "editable": false,
    "nbgrader": {
     "cell_type": "markdown",
     "checksum": "562b78b7b9b79580269be0a3bebf4b42",
     "grade": false,
     "grade_id": "cell-8fcbb64516283f52",
     "locked": true,
     "schema_version": 3,
     "solution": false
    }
   },
   "source": [
    "## Question 2\n",
    "\n",
    "Let's explore the relationship between being fed breastmilk as a child and getting a seasonal influenza vaccine from a healthcare provider. Return a tuple of the average number of influenza vaccines for those children we know received breastmilk as a child and those who know did not.\n",
    "\n",
    "*This function should return a tuple in the form (use the correct numbers:*\n",
    "```\n",
    "(2.5, 0.1)\n",
    "```"
   ]
  },
  {
   "cell_type": "code",
   "execution_count": null,
   "metadata": {
    "deletable": false,
    "nbgrader": {
     "cell_type": "code",
     "checksum": "a405d639063c4a6408365479f29c95c9",
     "grade": false,
     "grade_id": "cell-77f18c512324eabb",
     "locked": false,
     "schema_version": 3,
     "solution": true
    }
   },
   "outputs": [],
   "source": [
    "def average_influenza_doses():\n",
    "    # YOUR CODE HERE\n",
    "    import pandas as pd\n",
    "    \n",
    "    df = pd.read_csv('assets/NISPUF17.csv')\n",
    "    \n",
    "    ## We first need to determine which variables describe whether or not a child was breastfed & their number of influenza vaccines\n",
    "    ## Split df into two pieces, one for kids who were breastfed and one for those who were not\n",
    "    ## Then compute the average value along the column for number of influenza vaccines using builtin dataframe functions\n",
    "    \n",
    "    ## CBF_01 describes the breastfeeding status of children. The set of values is 'Yes', 'No', \"Missing', 'Don't Know', represented by\n",
    "    ## 1,2,77, and 99 respectively (I assume based on the ordering in the guide)\n",
    "    \n",
    "    ## P_NUMFLU describes the total number of influenza vaccinations that that child received. Its value are unambiguous\n",
    "    \n",
    "    breastfed = df[df['CBF_01']==1]\n",
    "    notBreastfed = df[df['CBF_01']==2]\n",
    "    \n",
    "    breastfed_mean = breastfed.loc[:,'P_NUMFLU'].mean()\n",
    "    notBreastfed_mean = notBreastfed.loc[:,'P_NUMFLU'].mean()\n",
    "    ## Recall: df.loc[:,'COL'].mean() returns the mean of the column 'COL' in the dataframe df as a scalar\n",
    "    \n",
    "    results = (breastfed_mean,notBreastfed_mean)\n",
    "    ##print(results)\n",
    "    return results\n",
    "    \n",
    "   ## raise NotImplementedError()"
   ]
  },
  {
   "cell_type": "code",
   "execution_count": null,
   "metadata": {
    "deletable": false,
    "editable": false,
    "nbgrader": {
     "cell_type": "code",
     "checksum": "19be955e97fdf7162d43fbb7c2c40951",
     "grade": true,
     "grade_id": "cell-54a3ba6cff31caa7",
     "locked": true,
     "points": 1,
     "schema_version": 3,
     "solution": false
    }
   },
   "outputs": [],
   "source": [
    "assert len(average_influenza_doses())==2, \"Return two values in a tuple, the first for yes and the second for no.\"\n"
   ]
  },
  {
   "cell_type": "markdown",
   "metadata": {
    "deletable": false,
    "editable": false,
    "nbgrader": {
     "cell_type": "markdown",
     "checksum": "e10e2163f5957a0c398ef4f0b76b4efe",
     "grade": false,
     "grade_id": "cell-f63377f3c97aa7c4",
     "locked": true,
     "schema_version": 3,
     "solution": false
    }
   },
   "source": [
    "## Question 3\n",
    "It would be interesting to see if there is any evidence of a link between vaccine effectiveness and sex of the child. Calculate the ratio of the number of children who contracted chickenpox but were vaccinated against it (at least one varicella dose) versus those who were vaccinated but did not contract chicken pox. Return results by sex. \n",
    "\n",
    "*This function should return a dictionary in the form of (use the correct numbers):* \n",
    "```\n",
    "    {\"male\":0.2,\n",
    "    \"female\":0.4}\n",
    "```\n",
    "\n",
    "Note: To aid in verification, the `chickenpox_by_sex()['female']` value the autograder is looking for starts with the digits `0.0077`."
   ]
  },
  {
   "cell_type": "code",
   "execution_count": 29,
   "metadata": {
    "deletable": false,
    "nbgrader": {
     "cell_type": "code",
     "checksum": "b4d1b58acae002bc73eb0b19f95bc4af",
     "grade": false,
     "grade_id": "cell-a0a9e6fe67698006",
     "locked": false,
     "schema_version": 3,
     "solution": true
    }
   },
   "outputs": [],
   "source": [
    "def chickenpox_by_sex():\n",
    "    # YOUR CODE HERE\n",
    "    import pandas as pd\n",
    "    \n",
    "    df = pd.read_csv('assets/NISPUF17.csv')\n",
    "    \n",
    "    ## Apply a boolean mask to reduce the dataframe to only those children who got chickenpox\n",
    "    ## (Note that we could also throw away columns we wouldn't need to solve this problem for the sake of efficiency if this was a real\n",
    "    ## world problem where speed and computational efficiency matters.)\n",
    "    ## HAD_CPOX is the columnname in df for this variable and 1 corresponds to yes according to the data set guide.\n",
    "    \n",
    "    ## Need to first filter out vaccinated children.\n",
    "    ## Then split into males and females\n",
    "    ## Then compute the number of vaccinated males and females resp. who did contract chickenpox and divide by the number of \n",
    "    ## vaccinated males and females resp. who were vaccinated and didn't contract it.\n",
    "    \n",
    "    vaxxedChildren = df[(df['P_NUMVRC']>0) & (df['P_NUMVRC'].notna())] ## 'P_NUMVRC' is number of chickenpox vaccinations \n",
    "    males = vaxxedChildren[vaxxedChildren['SEX']==1]\n",
    "    females = vaxxedChildren[vaxxedChildren['SEX']==2]\n",
    "    ## There are children for whom we do not know if they had chickenpox or not and  their values for 'HAD_CPOX' are >2. Throw away those entries.\n",
    "    males = males[males['HAD_CPOX']<3]\n",
    "    females = females[females['HAD_CPOX']<3]\n",
    "    ## We now have dataframes for the vaccinated males and females respectively. Next we count the number of kids who still got chickenpox\n",
    "    ## despite getting a chickenpox vaccination.\n",
    "    males_got_sick = males[males['HAD_CPOX']==1]\n",
    "    females_got_sick = females[females['HAD_CPOX']==1]\n",
    "    num_sick_males = len(males_got_sick)\n",
    "    num_sick_females = len(females_got_sick)\n",
    "                           \n",
    "    ## Now count the number of kids who never got sick\n",
    "    ## No need to go back to the original males and females dataframes since all kids either got chickenpox or they did not.\n",
    "    num_healthy_males = len(males) - num_sick_males\n",
    "    num_healthy_females = len(females) - num_sick_females\n",
    "                           \n",
    "    maleRatio = num_sick_males/num_healthy_males\n",
    "    femaleRatio = num_sick_females/num_healthy_females\n",
    "    \n",
    "    ratios = {'male':maleRatio, 'female':femaleRatio}\n",
    "    ##print(ratios)\n",
    "    return ratios                        \n",
    "    ##raise NotImplementedError()"
   ]
  },
  {
   "cell_type": "code",
   "execution_count": 30,
   "metadata": {
    "deletable": false,
    "editable": false,
    "nbgrader": {
     "cell_type": "code",
     "checksum": "1b6a113a633c55699ae478a3a9ee9c33",
     "grade": true,
     "grade_id": "cell-c4f1714db100c865",
     "locked": true,
     "points": 1,
     "schema_version": 3,
     "solution": false
    }
   },
   "outputs": [
    {
     "name": "stdout",
     "output_type": "stream",
     "text": [
      "{'male': 0.009675583380762664, 'female': 0.0077918259335489565}\n"
     ]
    }
   ],
   "source": [
    "assert len(chickenpox_by_sex())==2, \"Return a dictionary with two items, the first for males and the second for females.\"\n"
   ]
  },
  {
   "cell_type": "markdown",
   "metadata": {},
   "source": [
    "## Question 4\n",
    "A correlation is a statistical relationship between two variables. If we wanted to know if vaccines work, we might look at the correlation between the use of the vaccine and whether it results in prevention of the infection or disease [1]. In this question, you are to see if there is a correlation between having had the chicken pox and the number of chickenpox vaccine doses given (varicella).\n",
    "\n",
    "Some notes on interpreting the answer. The `had_chickenpox_column` is either `1` (for yes) or `2` (for no), and the `num_chickenpox_vaccine_column` is the number of doses a child has been given of the varicella vaccine. A positive correlation (e.g., `corr > 0`) means that an increase in `had_chickenpox_column` (which means more no’s) would also increase the values of `num_chickenpox_vaccine_column` (which means more doses of vaccine). If there is a negative correlation (e.g., `corr < 0`), it indicates that having had chickenpox is related to an increase in the number of vaccine doses.\n",
    "\n",
    "Also, `pval` is the probability that we observe a correlation between `had_chickenpox_column` and `num_chickenpox_vaccine_column` which is greater than or equal to a particular value occurred by chance. A small `pval` means that the observed correlation is highly unlikely to occur by chance. In this case, `pval` should be very small (will end in `e-18` indicating a very small number).\n",
    "\n",
    "[1] This isn’t really the full picture, since we are not looking at when the dose was given. It’s possible that children had chickenpox and then their parents went to get them the vaccine. Does this dataset have the data we would need to investigate the timing of the dose?"
   ]
  },
  {
   "cell_type": "code",
   "execution_count": 23,
   "metadata": {
    "deletable": false,
    "nbgrader": {
     "cell_type": "code",
     "checksum": "3e645859949447913cd11d30eb33cb1e",
     "grade": false,
     "grade_id": "cell-8afff07f564cf79a",
     "locked": false,
     "schema_version": 3,
     "solution": true
    }
   },
   "outputs": [],
   "source": [
    "def corr_chickenpox():\n",
    "    import scipy.stats as stats\n",
    "    import numpy as np\n",
    "    import pandas as pd\n",
    "    \n",
    "    # this is just an example dataframe\n",
    "    ##df=pd.DataFrame({\"had_chickenpox_column\":np.random.randint(1,3,size=(100)),\n",
    "    ##               \"num_chickenpox_vaccine_column\":np.random.randint(0,6,size=(100))})\n",
    "\n",
    "    # here is some stub code to actually run the correlation\n",
    "    ##corr, pval=stats.pearsonr(df[\"had_chickenpox_column\"],df[\"num_chickenpox_vaccine_column\"])\n",
    "    \n",
    "    # just return the correlation\n",
    "    #return corr\n",
    "\n",
    "    # YOUR CODE HERE\n",
    "    \n",
    "    ## Mimic the example that we were given above\n",
    "    ## The important lesson here is to make sure that we clean our data sufficiently well before we begin to do any sort of computations\n",
    "    ## or analysis with it.\n",
    "    \n",
    "    df = pd.read_csv('assets/NISPUF17.csv')\n",
    "    df= df[df['P_NUMVRC'].notna()] ## Keep only the rows that have an actual value for the number of chickenpox vaccinations\n",
    "    df = df[df['HAD_CPOX']<3] ## Throw away unknown or missing values for chickenpox status\n",
    "    corr, pval=stats.pearsonr(df['HAD_CPOX'],df['P_NUMVRC'])\n",
    "    ##print(corr)\n",
    "    ##print(pval)\n",
    "    return corr\n",
    "    \n",
    "    ##raise NotImplementedError()"
   ]
  },
  {
   "cell_type": "code",
   "execution_count": 24,
   "metadata": {
    "deletable": false,
    "editable": false,
    "nbgrader": {
     "cell_type": "code",
     "checksum": "ac50ccb747b99f6bbcc76da017e66528",
     "grade": true,
     "grade_id": "cell-73408733533a29a5",
     "locked": true,
     "points": 1,
     "schema_version": 3,
     "solution": false
    }
   },
   "outputs": [
    {
     "name": "stdout",
     "output_type": "stream",
     "text": [
      "0.07044873460147986\n",
      "2.7780263182916748e-18\n"
     ]
    }
   ],
   "source": [
    "assert -1<=corr_chickenpox()<=1, \"You must return a float number between -1.0 and 1.0.\"\n"
   ]
  },
  {
   "cell_type": "code",
   "execution_count": null,
   "metadata": {},
   "outputs": [],
   "source": []
  }
 ],
 "metadata": {
  "anaconda-cloud": {},
  "coursera": {
   "schema_names": [
    "mooc_adswpy_v1_assignment2"
   ]
  },
  "hide_code_all_hidden": false,
  "kernelspec": {
   "display_name": "Python 3 (ipykernel)",
   "language": "python",
   "name": "python3"
  },
  "language_info": {
   "codemirror_mode": {
    "name": "ipython",
    "version": 3
   },
   "file_extension": ".py",
   "mimetype": "text/x-python",
   "name": "python",
   "nbconvert_exporter": "python",
   "pygments_lexer": "ipython3",
   "version": "3.8.10"
  }
 },
 "nbformat": 4,
 "nbformat_minor": 4
}
